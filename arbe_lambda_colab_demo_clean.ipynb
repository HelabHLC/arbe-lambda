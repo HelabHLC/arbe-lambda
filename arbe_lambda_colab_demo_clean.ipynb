{
  "cells": [
    {
      "cell_type": "markdown",
      "metadata": {},
      "source": [
        "# ARBE * Demo Notebook\n",
        "Try ARBE * in Google Colab\n\n",
        "[Open in Colab](https://colab.research.google.com/github/HelabHLC/arbe-lambda/blob/main/arbe_lambda.ipynb)\n\n",
        "**Required file**: Please upload `arbe_lambda_full_export.csv` manually if not already present."
      ]
    },
    {
      "cell_type": "code",
      "execution_count": null,
      "metadata": {},
      "outputs": [],
      "source": [
        "# Uncomment to install packages locally\n",
        "# !pip install pandas numpy matplotlib plotly scipy"
      ]
    },
    {
      "cell_type": "code",
      "execution_count": null,
      "metadata": {},
      "outputs": [],
      "source": [
        "import pandas as pd\n",
        "import matplotlib.pyplot as plt\n",
        "import plotly.express as px\n",
        "import io\n",
        "import os"
      ]
    },
    {
      "cell_type": "code",
      "execution_count": null,
      "metadata": {},
      "outputs": [],
      "source": [
        "df = None\n",
        "try:\n",
        "    from google.colab import files\n",
        "    uploaded = files.upload()\n",
        "    if not uploaded:\n",
        "        raise FileNotFoundError(\"No file uploaded. Please upload 'arbe_lambda_full_export.csv' in Colab.\")\n",
        "    filename = next(iter(uploaded))\n",
        "    df = pd.read_csv(io.BytesIO(uploaded[filename]))\n",
        "except Exception as e:\n",
        "    print(\"Manual upload skipped or failed.\")\n",
        "    if os.path.exists(\"arbe_lambda_full_export.csv\"):\n",
        "        df = pd.read_csv(\"arbe_lambda_full_export.csv\")\n",
        "    else:\n",
        "        print(\"arbe_lambda_full_export.csv not found.\")\n",
        "        df = pd.DataFrame()"
      ]
    }
  ],
  "metadata": {
    "kernelspec": {
      "display_name": "Python 3",
      "language": "python",
      "name": "python3"
    },
    "language_info": {
      "name": "python",
      "version": "3.12"
    }
  },
  "nbformat": 4,
  "nbformat_minor": 2
}