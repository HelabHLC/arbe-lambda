{
 "cells": [
  {
   "cell_type": "markdown",
   "metadata": {},
   "source": [
    "# ARBE λ* Demo Notebook"
   ]
  },
  {
   "cell_type": "code",
   "execution_count": null,
   "metadata": {},
   "outputs": [],
   "source": [
    "# Installation (if running locally)
",
    "# !pip install pandas numpy matplotlib plotly scipy"
   ]
  },
  {
   "cell_type": "code",
   "execution_count": null,
   "metadata": {},
   "outputs": [],
   "source": [
    "import pandas as pd
",
    "import matplotlib.pyplot as plt
",
    "import plotly.express as px"
   ]
  },
  {
   "cell_type": "code",
   "execution_count": null,
   "metadata": {},
   "outputs": [],
   "source": [
    "# --- Load dataset ---
",
    "df_url = "https://raw.githubusercontent.com/HelabHLC/arbe-lambda/main/arbe_lambda_full_export.csv"
",
    "df = pd.read_csv(df_url)"
   ]
  },
  {
   "cell_type": "code",
   "execution_count": null,
   "metadata": {},
   "outputs": [],
   "source": [
    "# --- Inspect data ---
",
    "df.head()"
   ]
  },
  {
   "cell_type": "code",
   "execution_count": null,
   "metadata": {},
   "outputs": [],
   "source": [
    "# --- Basic stats ---
",
    "print("Number of entries:", len(df))
",
    "print("Available columns:", df.columns.tolist())"
   ]
  },
  {
   "cell_type": "code",
   "execution_count": null,
   "metadata": {},
   "outputs": [],
   "source": [
    "# --- Histogram of λ* distribution ---
",
    "plt.figure(figsize=(10, 4))
",
    "plt.hist(df["lambda_star"], bins=50, color="steelblue", edgecolor="white")
",
    "plt.title("Distribution of λ* values")
",
    "plt.xlabel("Wavelength λ* [nm]")
",
    "plt.ylabel("Count")
",
    "plt.grid(True)
",
    "plt.tight_layout()
",
    "plt.show()"
   ]
  },
  {
   "cell_type": "code",
   "execution_count": null,
   "metadata": {},
   "outputs": [],
   "source": [
    "# --- Optional: Interactive histogram ---
",
    "fig = px.histogram(df, x="lambda_star", nbins=50, title="Interactive λ* Distribution")
",
    "fig.update_layout(xaxis_title="λ* [nm]", yaxis_title="Count")
",
    "fig.show()"
   ]
  },
  {
   "cell_type": "code",
   "execution_count": null,
   "metadata": {},
   "outputs": [],
   "source": [
    "# --- Filter by λ* range ---
",
    "lambda_min = 540
",
    "lambda_max = 560
",
    "filtered = df[(df["lambda_star"] >= lambda_min) & (df["lambda_star"] <= lambda_max)]
",
    "print(f"Entries with λ* between {lambda_min} nm and {lambda_max} nm:", len(filtered))"
   ]
  },
  {
   "cell_type": "code",
   "execution_count": null,
   "metadata": {},
   "outputs": [],
   "source": [
    "# --- Display filtered subset ---
",
    "filtered[["name", "lambda_star", "L", "C", "H"]].head()"
   ]
  },
  {
   "cell_type": "code",
   "execution_count": null,
   "metadata": {},
   "outputs": [],
   "source": [
    "# --- Plot subset in CIELAB (symbolic) ---
",
    "plt.figure(figsize=(6, 6))
",
    "plt.scatter(filtered["a"], filtered["b"], c=filtered["L"], cmap="viridis", s=30)
",
    "plt.title(f"Filtered colours (λ* in {lambda_min}-{lambda_max} nm)")
",
    "plt.xlabel("a*")
",
    "plt.ylabel("b*")
",
    "plt.grid(True)
",
    "plt.tight_layout()
",
    "plt.show()"
   ]
  }
 ],
 "metadata": {
  "kernelspec": {
   "display_name": "Python 3",
   "language": "python",
   "name": "python3"
  },
  "language_info": {
   "name": "python",
   "version": ""
  }
 },
 "nbformat": 4,
 "nbformat_minor": 5
}