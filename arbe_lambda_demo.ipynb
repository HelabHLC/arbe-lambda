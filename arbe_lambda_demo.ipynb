{
 "cells": [
  {
   "cell_type": "markdown",
   "metadata": {},
   "source": [
    "# ARBE λ* Demo Notebook"
   ]
  },
  {
   "cell_type": "code",
   "execution_count": null,
   "metadata": {},
   "outputs": [],
   "source": [
    "# Installation (if running locally)\n",
    "# !pip install pandas numpy matplotlib plotly scipy"
   ]
  },
  {
   "cell_type": "code",
   "execution_count": null,
   "metadata": {},
   "outputs": [],
   "source": [
    "import pandas as pd\n",
    "import matplotlib.pyplot as plt\n",
    "import plotly.express as px"
   ]
  },
  {
   "cell_type": "code",
   "execution_count": null,
   "metadata": {},
   "outputs": [],
   "source": [
    "# --- Load dataset ---\n",
    "df_url = \"https://raw.githubusercontent.com/HelabHLC/arbe-lambda/main/arbe_lambda_full_export.csv\"\n",
    "df = pd.read_csv(df_url)"
   ]
  },
  {
   "cell_type": "code",
   "execution_count": null,
   "metadata": {},
   "outputs": [],
   "source": [
    "# --- Inspect data ---\n",
    "df.head()"
   ]
  },
  {
   "cell_type": "code",
   "execution_count": null,
   "metadata": {},
   "outputs": [],
   "source": [
    "# --- Basic stats ---\n",
    "print(\"Number of entries:\", len(df))\n",
    "print(\"Available columns:\", df.columns.tolist())"
   ]
  },
  {
   "cell_type": "code",
   "execution_count": null,
   "metadata": {},
   "outputs": [],
   "source": [
    "# --- Histogram of λ* distribution ---\n",
    "plt.figure(figsize=(10, 4))\n",
    "plt.hist(df[\"lambda_star\"], bins=50, color=\"steelblue\", edgecolor=\"white\")\n",
    "plt.title(\"Distribution of λ* values\")\n",
    "plt.xlabel(\"Wavelength λ* [nm]\")\n",
    "plt.ylabel(\"Count\")\n",
    "plt.grid(True)\n",
    "plt.tight_layout()\n",
    "plt.show()"
   ]
  },
  {
   "cell_type": "code",
   "execution_count": null,
   "metadata": {},
   "outputs": [],
   "source": [
    "# --- Optional: Interactive histogram ---\n",
    "fig = px.histogram(df, x=\"lambda_star\", nbins=50, title=\"Interactive λ* Distribution\")\n",
    "fig.update_layout(xaxis_title=\"λ* [nm]\", yaxis_title=\"Count\")\n",
    "fig.show()"
   ]
  },
  {
   "cell_type": "code",
   "execution_count": null,
   "metadata": {},
   "outputs": [],
   "source": [
    "# --- Filter by λ* range ---\n",
    "lambda_min = 540\n",
    "lambda_max = 560\n",
    "filtered = df[(df[\"lambda_star\"] >= lambda_min) & (df[\"lambda_star\"] <= lambda_max)]\n",
    "print(f\"Entries with λ* between {lambda_min} nm and {lambda_max} nm:\", len(filtered))"
   ]
  },
  {
   "cell_type": "code",
   "execution_count": null,
   "metadata": {},
   "outputs": [],
   "source": [
    "# --- Display filtered subset ---\n",
    "filtered[[\"name\", \"lambda_star\", \"L\", \"C\", \"H\"]].head()"
   ]
  },
  {
   "cell_type": "code",
   "execution_count": null,
   "metadata": {},
   "outputs": [],
   "source": [
    "# --- Plot subset in CIELAB (symbolic) ---\n",
    "plt.figure(figsize=(6, 6))\n",
    "plt.scatter(filtered[\"a\"], filtered[\"b\"], c=filtered[\"L\"], cmap=\"viridis\", s=30)\n",
    "plt.title(f\"Filtered colours (λ* in {lambda_min}-{lambda_max} nm)\")\n",
    "plt.xlabel(\"a*\")\n",
    "plt.ylabel(\"b*\")\n",
    "plt.grid(True)\n",
    "plt.tight_layout()\n",
    "plt.show()"
   ]
  }
 ],
 "metadata": {
  "kernelspec": {
   "display_name": "Python 3",
   "language": "python",
   "name": "python3"
  },
  "language_info": {
   "name": "python",
   "version": ""
  }
 },
 "nbformat": 4,
 "nbformat_minor": 5
}